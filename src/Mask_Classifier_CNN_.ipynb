{
  "nbformat": 4,
  "nbformat_minor": 0,
  "metadata": {
    "colab": {
      "name": "Mask_Classifier-CNN .ipynb",
      "provenance": [],
      "collapsed_sections": []
    },
    "kernelspec": {
      "name": "python3",
      "display_name": "Python 3"
    },
    "accelerator": "GPU"
  },
  "cells": [
    {
      "cell_type": "code",
      "metadata": {
        "id": "-h7ULXysL6OF",
        "colab_type": "code",
        "colab": {}
      },
      "source": [
        "# importing the libraries\n",
        "import pandas as pd\n",
        "import numpy as np\n",
        "\n",
        "# for reading and augmenting images\n",
        "from skimage.io import imread\n",
        "from skimage.transform import rotate, resize\n",
        "\n",
        "# for splitting train-test set and evaluating the model\n",
        "from sklearn.model_selection import train_test_split\n",
        "from sklearn.metrics import accuracy_score\n",
        "\n",
        "# PyTorch libraries \n",
        "import torch\n",
        "from torch.nn import Linear, ReLU, CrossEntropyLoss, Sequential, Conv2d, MaxPool2d, Module, Softmax, BatchNorm2d, Dropout\n",
        "from torch.optim import Adam\n",
        "\n",
        "# Make sure the images.zip is in the same directory and same path\n",
        "# loading dataset\n",
        "!unzip images.zip"
      ],
      "execution_count": null,
      "outputs": []
    },
    {
      "cell_type": "code",
      "metadata": {
        "id": "IDcvDnLFNmvT",
        "colab_type": "code",
        "colab": {
          "base_uri": "https://localhost:8080/",
          "height": 34
        },
        "outputId": "a65ee405-9ccf-41cc-feb1-1bc8a7ae1b5d"
      },
      "source": [
        "train = pd.read_csv('csv/mask.csv')\n",
        "\n",
        "# loading training images\n",
        "train_img = []\n",
        "train_img_values = []\n",
        "for img_name in train['image_names']:\n",
        "    image_path = 'images/' + img_name \n",
        "    img = imread(image_path)\n",
        "    img = img/255\n",
        "    img = resize(img, output_shape=(3, 224, 224),\n",
        "                 mode='constant', anti_aliasing=True)\n",
        "    train_img.append(img)\n",
        "\n",
        "\n",
        "train_x = np.array(train_img)\n",
        "\n",
        "# defining the labels\n",
        "train_y = train['mask_or_not'].values\n",
        "\n",
        "train_x, test_x, train_y, test_y = train_test_split(train_x, train_y, test_size=0.2, random_state=13, stratify=train_y)\n",
        "print(\"Number of images (Before Image Augmentation) in Training set : \",train_x.shape[0],\"  Number of images in Testing set : \",test_x.shape[0])"
      ],
      "execution_count": 3,
      "outputs": [
        {
          "output_type": "stream",
          "text": [
            "Number of images (Before Image Augmentation) in Training set :  652   Number of images in Testing set :  164\n"
          ],
          "name": "stdout"
        }
      ]
    },
    {
      "cell_type": "code",
      "metadata": {
        "id": "2SCqqa-MZAYS",
        "colab_type": "code",
        "colab": {
          "base_uri": "https://localhost:8080/",
          "height": 34
        },
        "outputId": "9739b820-e532-487d-c3a1-db9ccdfc099c"
      },
      "source": [
        "# Image Augmentation\n",
        "final_train_x = []\n",
        "final_train_y = []\n",
        "\n",
        "#train_x.shape[0]\n",
        "for i in range(train_x.shape[0]):\n",
        "    final_train_x.append(train_x[i])\n",
        "    final_train_x.append(rotate(train_x[i], angle=45, mode = 'wrap'))\n",
        "    final_train_x.append(np.fliplr(train_x[i]))\n",
        "    for j in range(3):\n",
        "      final_train_y.append(train_y[i])\n",
        "\n",
        "train_x = np.array(final_train_x)\n",
        "train_y = np.array(final_train_y)\n",
        "print(\"Number of images (After Image Augmentation) in Training set : \",train_x.shape[0],\"  Number of images in Testing set : \",test_x.shape[0])"
      ],
      "execution_count": 4,
      "outputs": [
        {
          "output_type": "stream",
          "text": [
            "Number of images (After Image Augmentation) in Training set :  1956   Number of images in Testing set :  164\n"
          ],
          "name": "stdout"
        }
      ]
    },
    {
      "cell_type": "code",
      "metadata": {
        "id": "KTrDGEXjZFXP",
        "colab_type": "code",
        "colab": {}
      },
      "source": [
        "# converting training images and its labels into torch format\n",
        "train_x = train_x.reshape(1956, 3, 224, 224) #1956 is the number of training images\n",
        "train_x  = torch.from_numpy(train_x)\n",
        "train_x = train_x.float()\n",
        "train_y = train_y.astype(int)\n",
        "train_y = torch.from_numpy(train_y)\n",
        "\n",
        "\n",
        "# converting test images and its labels into torch format\n",
        "test_x = test_x.reshape(164, 3, 224, 224) #164 is the number of test images\n",
        "test_x  = torch.from_numpy(test_x)\n",
        "test_x = test_x.float()\n",
        "test_y = test_y.astype(int)\n",
        "test_y = torch.from_numpy(test_y)"
      ],
      "execution_count": 5,
      "outputs": []
    },
    {
      "cell_type": "code",
      "metadata": {
        "id": "e64QU28qZikr",
        "colab_type": "code",
        "colab": {}
      },
      "source": [
        "# Define the model\n",
        "class Net(Module):   \n",
        "    def __init__(self):\n",
        "        super(Net, self).__init__()\n",
        "\n",
        "        self.cnn_layers = Sequential(\n",
        "            Conv2d(3, 32, kernel_size=3, stride=1, padding=1),\n",
        "            ReLU(inplace=True),\n",
        "            BatchNorm2d(32),\n",
        "            MaxPool2d(kernel_size=2, stride=2),\n",
        "            Dropout(p=0.25),\n",
        "            Conv2d(32, 64, kernel_size=3, stride=1, padding=1),\n",
        "            ReLU(inplace=True),\n",
        "            BatchNorm2d(64),\n",
        "            MaxPool2d(kernel_size=2, stride=2),\n",
        "            Dropout(p=0.25),\n",
        "            Conv2d(64, 128, kernel_size=3, stride=1, padding=1),\n",
        "            ReLU(inplace=True),\n",
        "            BatchNorm2d(128),\n",
        "            MaxPool2d(kernel_size=2, stride=2),\n",
        "            Dropout(p=0.25),\n",
        "            Conv2d(128, 128, kernel_size=3, stride=1, padding=1),\n",
        "            ReLU(inplace=True),\n",
        "            BatchNorm2d(128),\n",
        "            MaxPool2d(kernel_size=2, stride=2),\n",
        "            Dropout(p=0.25),\n",
        "        )\n",
        "\n",
        "        self.linear_layers = Sequential(\n",
        "            Linear(128 * 14 * 14, 512),\n",
        "            ReLU(inplace=True),\n",
        "            Dropout(),\n",
        "            Linear(512, 256),\n",
        "            ReLU(inplace=True),\n",
        "            Dropout(),\n",
        "            Linear(256,10),\n",
        "            ReLU(inplace=True),\n",
        "            Dropout(),\n",
        "            Linear(10,2)\n",
        "        )\n",
        "\n",
        "    # Defining the forward pass    \n",
        "    def forward(self, x):\n",
        "        x = self.cnn_layers(x)\n",
        "        x = x.view(x.size(0), -1)\n",
        "        x = self.linear_layers(x)\n",
        "        return x"
      ],
      "execution_count": 17,
      "outputs": []
    },
    {
      "cell_type": "code",
      "metadata": {
        "id": "cSCCDRqjZi9W",
        "colab_type": "code",
        "colab": {}
      },
      "source": [
        "model = Net()\n",
        "optimizer = Adam(model.parameters(), lr=0.000075)\n",
        "criterion = CrossEntropyLoss()\n",
        "\n",
        "# checking if GPU is available\n",
        "if torch.cuda.is_available():\n",
        "    model = model.cuda()\n",
        "    criterion = criterion.cuda()"
      ],
      "execution_count": 18,
      "outputs": []
    },
    {
      "cell_type": "code",
      "metadata": {
        "id": "Lk7rrwTjZjVH",
        "colab_type": "code",
        "colab": {}
      },
      "source": [
        "# batch size of the model\n",
        "batch_size = 32\n",
        "\n",
        "# number of epochs to train the model\n",
        "n_epochs = 13\n",
        "\n",
        "for epoch in range(1, n_epochs+1):\n",
        "\n",
        "    train_loss = 0.0\n",
        "    permutation = torch.randperm(train_x.size()[0])\n",
        "    training_loss = []\n",
        "    for i in range(0,train_x.size()[0], batch_size):\n",
        "\n",
        "        indices = permutation[i:i+batch_size]\n",
        "        batch_x, batch_y = train_x[indices], train_y[indices]\n",
        "        \n",
        "        if torch.cuda.is_available():\n",
        "            batch_x, batch_y = batch_x.cuda(), batch_y.cuda()\n",
        "        \n",
        "        optimizer.zero_grad()\n",
        "        outputs = model(batch_x)\n",
        "        loss = criterion(outputs,batch_y)\n",
        "\n",
        "        training_loss.append(loss.item())\n",
        "        loss.backward()\n",
        "        optimizer.step() \n",
        "        \n",
        "    training_loss = np.average(training_loss)\n",
        "    print('epoch: \\t', epoch, '\\t training loss: \\t', training_loss)\n"
      ],
      "execution_count": null,
      "outputs": []
    },
    {
      "cell_type": "code",
      "metadata": {
        "id": "SVCi4uRSZ8V9",
        "colab_type": "code",
        "colab": {}
      },
      "source": [
        "# batch size of the model\n",
        "batch_size = 64\n",
        "# prediction for training set\n",
        "prediction = []\n",
        "target = []\n",
        "permutation = torch.randperm(train_x.size()[0])\n",
        "for i in range(0,train_x.size()[0], batch_size):\n",
        "    indices = permutation[i:i+batch_size]\n",
        "    batch_x, batch_y = train_x[indices], train_y[indices]\n",
        "\n",
        "    if torch.cuda.is_available():\n",
        "        batch_x, batch_y = batch_x.cuda(), batch_y.cuda()\n",
        "\n",
        "    with torch.no_grad():\n",
        "        output = model(batch_x.cuda())\n",
        "\n",
        "    softmax = torch.exp(output).cpu()\n",
        "    prob = list(softmax.numpy())\n",
        "    predictions = np.argmax(prob, axis=1)\n",
        "    prediction.append(predictions)\n",
        "    target.append(batch_y)\n",
        "    \n",
        "# training accuracy\n",
        "accuracy = []\n",
        "for i in range(len(prediction)):\n",
        "    accuracy.append(accuracy_score(target[i].cpu(),prediction[i]))\n",
        "    \n",
        "print('training accuracy: \\t', np.average(accuracy))"
      ],
      "execution_count": null,
      "outputs": []
    },
    {
      "cell_type": "code",
      "metadata": {
        "id": "e_sJqaI5Z8tc",
        "colab_type": "code",
        "colab": {}
      },
      "source": [
        "# checking the performance on validation set\n",
        "torch.manual_seed(0)\n",
        "# batch size of the model\n",
        "batch_size = 64\n",
        "# prediction for test set\n",
        "prediction = []\n",
        "target = []\n",
        "permutation = torch.randperm(test_x.size()[0])\n",
        "for i in range(0,test_x.size()[0], batch_size):\n",
        "    indices = permutation[i:i+batch_size]\n",
        "    batch_x, batch_y = test_x[indices], test_y[indices]\n",
        "\n",
        "    if torch.cuda.is_available():\n",
        "        batch_x, batch_y = batch_x.cuda(), batch_y.cuda()\n",
        "\n",
        "    with torch.no_grad():\n",
        "        output = model(batch_x.cuda())\n",
        "\n",
        "    softmax = torch.exp(output).cpu()\n",
        "    prob = list(softmax.numpy())\n",
        "    predictions = np.argmax(prob, axis=1)\n",
        "    prediction.append(predictions)\n",
        "    target.append(batch_y)\n",
        "    \n",
        "# Test accuracy\n",
        "accuracy = []\n",
        "for i in range(len(prediction)):\n",
        "    accuracy.append(accuracy_score(target[i].cpu(),prediction[i]))\n",
        "    \n",
        "print('Test accuracy: \\t', np.average(accuracy))\n",
        "torch.save(model, 'CNN-model.pth')"
      ],
      "execution_count": null,
      "outputs": []
    },
    {
      "cell_type": "markdown",
      "metadata": {
        "id": "Ufb2xKuoQRU5",
        "colab_type": "text"
      },
      "source": [
        "The below code is used to test the model with a specific image."
      ]
    },
    {
      "cell_type": "code",
      "metadata": {
        "id": "5XZmpdgYAANm",
        "colab_type": "code",
        "colab": {}
      },
      "source": [
        "model = torch.load('CNN-model.pth')\n",
        "image_path = 'images/407.jpg' #Specify the image path\n",
        "img = imread(image_path)\n",
        "img = img/255\n",
        "img = resize(img, output_shape=(3, 224, 224),\n",
        "               mode='constant', anti_aliasing=True)\n",
        "img = img.astype('float32')\n",
        "img = np.array(img)\n",
        "\n",
        "img = img.reshape(1, 3, 224, 224) \n",
        "img = torch.from_numpy(img)\n",
        "img = img.float()\n",
        "\n",
        "output = model(img.cuda())\n",
        "softmax = torch.exp(output).cpu()\n",
        "prob = list(softmax.detach().numpy())\n",
        "predictions = np.argmax(prob, axis=1)\n",
        "print(predictions)"
      ],
      "execution_count": null,
      "outputs": []
    }
  ]
}