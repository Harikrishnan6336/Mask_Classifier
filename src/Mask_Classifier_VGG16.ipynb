{
  "nbformat": 4,
  "nbformat_minor": 0,
  "metadata": {
    "colab": {
      "name": "Mask_Classifier-VGG16.ipynb",
      "provenance": [],
      "collapsed_sections": []
    },
    "kernelspec": {
      "name": "python3",
      "display_name": "Python 3"
    },
    "accelerator": "GPU"
  },
  "cells": [
    {
      "cell_type": "code",
      "metadata": {
        "id": "hcXvIY_hqxQu",
        "colab_type": "code",
        "colab": {
          "base_uri": "https://localhost:8080/",
          "height": 34
        },
        "outputId": "3364bc78-c619-4cba-d3a6-1f904739a2ec"
      },
      "source": [
        "# importing the libraries\n",
        "import pandas as pd\n",
        "import numpy as np\n",
        "\n",
        "# for reading and augmenting images\n",
        "from skimage.io import imread\n",
        "from skimage.transform import resize, rotate\n",
        "\n",
        "# for splitting train-test set and evaluating the model\n",
        "from sklearn.model_selection import train_test_split\n",
        "from sklearn.metrics import accuracy_score\n",
        "\n",
        "# PyTorch libraries \n",
        "import torch\n",
        "from torch import optim\n",
        "from torch.nn import Linear, CrossEntropyLoss, Sequential\n",
        "from torch.autograd import Variable\n",
        "\n",
        "# Pre-trained models(here VGG16) \n",
        "from torchvision import models\n",
        "\n",
        "# Make sure the images.zip is in the same directory and same path\n",
        "# loading dataset\n",
        "!unzip images.zip "
      ],
      "execution_count": 146,
      "outputs": [
        {
          "output_type": "stream",
          "text": [
            "unzip:  cannot find or open images.zip, images.zip.zip or images.zip.ZIP.\n"
          ],
          "name": "stdout"
        }
      ]
    },
    {
      "cell_type": "code",
      "metadata": {
        "id": "L1vDuLOtq4Bz",
        "colab_type": "code",
        "colab": {
          "base_uri": "https://localhost:8080/",
          "height": 34
        },
        "outputId": "a703d09e-1654-4ad5-c745-013e00f74434"
      },
      "source": [
        "train = pd.read_csv('csv/mask.csv')\n",
        "\n",
        "# loading training images\n",
        "train_img = []\n",
        "for img_name in train['image_names']:\n",
        "    image_path = 'images/' + img_name \n",
        "    img = imread(image_path)\n",
        "    img = img/255\n",
        "    # resizing the image to (224,224,3), since VGG16 requires the input images in that shape\n",
        "    img = resize(img, output_shape=(224, 224, 3),\n",
        "                 mode='constant', anti_aliasing=True)\n",
        "    img = img.astype('float32')\n",
        "    train_img.append(img)\n",
        "\n",
        "train_x = np.array(train_img)\n",
        "\n",
        "# defining the labels\n",
        "train_y = train['mask_or_not'].values\n",
        "\n",
        "train_x, test_x, train_y, test_y = train_test_split(train_x, train_y, test_size=0.2, random_state=13, stratify=train_y)\n",
        "print(\"Number of images (Before Image Augmentation) in Training set : \",train_x.shape[0],\"  Number of images in Testing set : \",test_x.shape[0])"
      ],
      "execution_count": 110,
      "outputs": [
        {
          "output_type": "stream",
          "text": [
            "Number of images (Before Image Augmentation) in Training set :  652   Number of images in Testing set :  164\n"
          ],
          "name": "stdout"
        }
      ]
    },
    {
      "cell_type": "code",
      "metadata": {
        "id": "f52wTrwLq7_q",
        "colab_type": "code",
        "colab": {
          "base_uri": "https://localhost:8080/",
          "height": 34
        },
        "outputId": "59474db5-301a-4ca9-9fc6-0aa4ff102e70"
      },
      "source": [
        "# Image Augmentation\n",
        "final_train_x = []\n",
        "final_train_y = []\n",
        "\n",
        "for i in range(train_x.shape[0]):\n",
        "    final_train_x.append(train_x[i])\n",
        "    final_train_x.append(rotate(train_x[i], angle=45, mode = 'wrap'))\n",
        "    final_train_x.append(np.fliplr(train_x[i]))\n",
        "    for j in range(3):\n",
        "      final_train_y.append(train_y[i])\n",
        "\n",
        "train_x = np.array(final_train_x)\n",
        "train_y = np.array(final_train_y)\n",
        "print(\"Number of images (After Image Augmentation) in Training set : \",train_x.shape[0],\"  Number of images in Testing set : \",test_x.shape[0])\n"
      ],
      "execution_count": 111,
      "outputs": [
        {
          "output_type": "stream",
          "text": [
            "Number of images (After Image Augmentation) in Training set :  1956   Number of images in Testing set :  164\n"
          ],
          "name": "stdout"
        }
      ]
    },
    {
      "cell_type": "code",
      "metadata": {
        "id": "PX3k3TWZrCHv",
        "colab_type": "code",
        "colab": {}
      },
      "source": [
        "# converting training images into torch format\n",
        "train_x = train_x.reshape(1956, 3, 224, 224) # 1956 is the number of training images\n",
        "train_x = torch.from_numpy(train_x)\n",
        "train_y = train_y.astype(int)\n",
        "train_y = torch.from_numpy(train_y)\n",
        "\n",
        "# converting test images into torch format\n",
        "test_x = test_x.reshape(164, 3, 224, 224) #164 is the number of test images\n",
        "test_x = torch.from_numpy(test_x)\n",
        "test_y = test_y.astype(int)\n",
        "test_y = torch.from_numpy(test_y)"
      ],
      "execution_count": 112,
      "outputs": []
    },
    {
      "cell_type": "code",
      "metadata": {
        "id": "LNi4CFVurFlI",
        "colab_type": "code",
        "colab": {}
      },
      "source": [
        "# loading the pretrained model\n",
        "model = models.vgg16_bn(pretrained=True)\n",
        "\n",
        "# checking if GPU is available  \n",
        "if torch.cuda.is_available():\n",
        "    model.cuda()\n",
        "\n",
        "# Freeze model weights of the VGG-16 model. \n",
        "for param in model.parameters():\n",
        "   param.requires_grad = False\n",
        "\n",
        "# Add a Linear layer to the classifier\n",
        "model.classifier[6] = Sequential(\n",
        "    Linear(4096, 2).cuda())\n",
        "\n",
        "#Train the model by updating the weights of the last layer\n",
        "for param in model.classifier[6].parameters():\n",
        "    param.requires_grad = True "
      ],
      "execution_count": 113,
      "outputs": []
    },
    {
      "cell_type": "code",
      "metadata": {
        "id": "TLmDLC_vrIpj",
        "colab_type": "code",
        "colab": {}
      },
      "source": [
        "# batch_size\n",
        "batch_size = 64\n",
        "    \n",
        "# extracting features for train data\n",
        "data_x = []\n",
        "label_x = []\n",
        "\n",
        "inputs, labels = train_x, train_y\n",
        "inputs = inputs.cuda()\n",
        "\n",
        "for i in range(int(train_x.shape[0]/batch_size)+1):\n",
        "    input_data = inputs[i*batch_size:(i+1)*batch_size]\n",
        "    label_data = labels[i*batch_size:(i+1)*batch_size]\n",
        "    input_data, label_data = Variable(\n",
        "        input_data.cuda()), Variable(label_data.cuda())\n",
        "    x = model.features(input_data)\n",
        "    data_x.extend(x.data.cpu().numpy())\n",
        "    label_x.extend(label_data.data.cpu().numpy())\n",
        "\n",
        "# extracting features for test data\n",
        "data_z = []\n",
        "label_z = []\n",
        "\n",
        "inputs, labels = test_x, test_y\n",
        "\n",
        "for i in range(int(test_x.shape[0]/batch_size)+1):\n",
        "    input_data = inputs[i*batch_size:(i+1)*batch_size]\n",
        "    label_data = labels[i*batch_size:(i+1)*batch_size]\n",
        "    input_data, label_data = Variable(\n",
        "        input_data.cuda()), Variable(label_data.cuda())\n",
        "    x = model.features(input_data)\n",
        "    data_z.extend(x.data.cpu().numpy())\n",
        "    label_z.extend(label_data.data.cpu().numpy())"
      ],
      "execution_count": 129,
      "outputs": []
    },
    {
      "cell_type": "code",
      "metadata": {
        "id": "Hzl_1dc9ssaw",
        "colab_type": "code",
        "colab": {}
      },
      "source": [
        "# converting training images and its labels into torch format\n",
        "x_train = torch.from_numpy(np.array(data_x))\n",
        "x_train = x_train.view(x_train.size(0), -1)\n",
        "y_train = torch.from_numpy(np.array(label_x))\n",
        "\n",
        "# converting test images and its labels into torch format\n",
        "x_test  = torch.from_numpy(np.array(data_z))\n",
        "x_test = x_test.view(x_test.size(0), -1)\n",
        "y_test  = torch.from_numpy(np.array(label_z))\n",
        "\n",
        "# specify loss function (categorical cross-entropy)\n",
        "criterion = CrossEntropyLoss()\n",
        "\n",
        "# specify optimizer (Adam) and learning rate\n",
        "optimizer = optim.Adam(model.classifier[6].parameters(), lr=0.0005)\n",
        "\n",
        "#print(model)"
      ],
      "execution_count": 130,
      "outputs": []
    },
    {
      "cell_type": "code",
      "metadata": {
        "id": "sozy6WqLrcbx",
        "colab_type": "code",
        "colab": {
          "base_uri": "https://localhost:8080/",
          "height": 319
        },
        "outputId": "7da61a63-6f5d-4944-d5f0-1f0271327fcb"
      },
      "source": [
        "# batch size of the model\n",
        "batch_size = 64\n",
        "\n",
        "# number of epochs to train the model\n",
        "n_epochs = 20\n",
        "\n",
        "for epoch in range(1, n_epochs+1):\n",
        "\n",
        "    train_loss = 0.0    \n",
        "    permutation = torch.randperm(x_train.size()[0])\n",
        "    training_loss = []\n",
        "    for i in range(0,x_train.size()[0], batch_size):\n",
        "\n",
        "        indices = permutation[i:i+batch_size]\n",
        "        batch_x, batch_y = x_train[indices], y_train[indices]\n",
        "        \n",
        "        if torch.cuda.is_available():\n",
        "            batch_x, batch_y = batch_x.cuda(), batch_y.cuda()\n",
        "        \n",
        "        optimizer.zero_grad()\n",
        "        outputs = model.classifier(batch_x.cuda())\n",
        "        loss = criterion(outputs,batch_y)\n",
        "\n",
        "        training_loss.append(loss.item())\n",
        "        loss.backward()\n",
        "        optimizer.step()\n",
        "        \n",
        "    training_loss = np.average(training_loss)\n",
        "    print('epoch: \\t', epoch, '\\t Training loss: \\t', training_loss)"
      ],
      "execution_count": 135,
      "outputs": [
        {
          "output_type": "stream",
          "text": [
            "epoch: \t 1 \t Training loss: \t 0.3146356079847582\n",
            "epoch: \t 2 \t Training loss: \t 0.3218288440858164\n",
            "epoch: \t 3 \t Training loss: \t 0.3061266988515854\n",
            "epoch: \t 4 \t Training loss: \t 0.3343534440763535\n",
            "epoch: \t 5 \t Training loss: \t 0.3001561256185655\n",
            "epoch: \t 6 \t Training loss: \t 0.32131552936569335\n",
            "epoch: \t 7 \t Training loss: \t 0.3151892957187468\n",
            "epoch: \t 8 \t Training loss: \t 0.3157746335191111\n",
            "epoch: \t 9 \t Training loss: \t 0.29817502248671746\n",
            "epoch: \t 10 \t Training loss: \t 0.3149509516454512\n",
            "epoch: \t 11 \t Training loss: \t 0.3249852167021844\n",
            "epoch: \t 12 \t Training loss: \t 0.3223951545453841\n",
            "epoch: \t 13 \t Training loss: \t 0.32522020993694184\n",
            "epoch: \t 14 \t Training loss: \t 0.3208340396804194\n",
            "epoch: \t 15 \t Training loss: \t 0.3111318551724957\n",
            "epoch: \t 16 \t Training loss: \t 0.3144621829832754\n",
            "epoch: \t 17 \t Training loss: \t 0.3384840555729405\n",
            "epoch: \t 18 \t Training loss: \t 0.3180781833587154\n"
          ],
          "name": "stdout"
        }
      ]
    },
    {
      "cell_type": "code",
      "metadata": {
        "id": "G_SkMzBOrg2d",
        "colab_type": "code",
        "colab": {
          "base_uri": "https://localhost:8080/",
          "height": 34
        },
        "outputId": "87a79c58-5951-4fd1-e6e6-23f5aee9261f"
      },
      "source": [
        "# prediction for training set\n",
        "prediction = []\n",
        "target = []\n",
        "permutation = torch.randperm(x_train.size()[0])\n",
        "for i in range(0, x_train.size()[0], batch_size):\n",
        "    indices = permutation[i:i+batch_size]\n",
        "    batch_x, batch_y = x_train[indices], y_train[indices]\n",
        "\n",
        "    if torch.cuda.is_available():\n",
        "        batch_x, batch_y = batch_x.cuda(), batch_y.cuda()\n",
        "\n",
        "    with torch.no_grad():\n",
        "        output = model.classifier(batch_x.cuda())\n",
        "\n",
        "    softmax = torch.exp(output).cpu()\n",
        "    prob = list(softmax.numpy())\n",
        "    predictions = np.argmax(prob, axis=1)\n",
        "    prediction.append(predictions)\n",
        "    target.append(batch_y)\n",
        "\n",
        "# Training accuracy\n",
        "accuracy = []\n",
        "for i in range(len(prediction)):\n",
        "    accuracy.append(accuracy_score(target[i].cpu(), prediction[i]))\n",
        "\n",
        "print('Training accuracy: \\t', np.average(accuracy))"
      ],
      "execution_count": 136,
      "outputs": [
        {
          "output_type": "stream",
          "text": [
            "Training accuracy: \t 0.8551187275985663\n"
          ],
          "name": "stdout"
        }
      ]
    },
    {
      "cell_type": "code",
      "metadata": {
        "id": "4SxvC-WPrl9-",
        "colab_type": "code",
        "colab": {
          "base_uri": "https://localhost:8080/",
          "height": 34
        },
        "outputId": "5772f69b-b8fa-4d79-994a-379c8f2fedfc"
      },
      "source": [
        "# prediction for Test set\n",
        "prediction_test = []\n",
        "target_test = []\n",
        "\n",
        "permutation = torch.randperm(x_test.size()[0])\n",
        "for i in range(0, x_test.size()[0], batch_size):\n",
        "    indices = permutation[i:i+batch_size]\n",
        "    batch_x, batch_y = x_test[indices], y_test[indices]\n",
        "       \n",
        "    if torch.cuda.is_available():\n",
        "        batch_x, batch_y = batch_x.cuda(), batch_y.cuda()\n",
        "  \n",
        "    with torch.no_grad():\n",
        "        output = model.classifier(batch_x.cuda())\n",
        "\n",
        "    softmax = torch.exp(output).cpu()\n",
        "    prob = list(softmax.numpy())\n",
        "\n",
        "    predictions = np.argmax(prob, axis=1)\n",
        "    prediction_test.append(predictions)\n",
        "    target_test.append(batch_y)\n",
        "   \n",
        "# Test accuracy\n",
        "accuracy_test = []\n",
        "for i in range(len(prediction_test)):\n",
        "    accuracy_test.append(accuracy_score(target_test[i].cpu(), prediction_test[i]))\n",
        "\n",
        "print('Test accuracy: \\t', np.average(accuracy_test))\n",
        "torch.save(model, 'VGG16-model.pth')"
      ],
      "execution_count": 144,
      "outputs": [
        {
          "output_type": "stream",
          "text": [
            "Test accuracy: \t 0.7934027777777778\n"
          ],
          "name": "stdout"
        }
      ]
    },
    {
      "cell_type": "markdown",
      "metadata": {
        "id": "V3NzDyUojWwF",
        "colab_type": "text"
      },
      "source": [
        "The below code is used to test the model with a specific image."
      ]
    },
    {
      "cell_type": "code",
      "metadata": {
        "id": "HiStd3zYrpCL",
        "colab_type": "code",
        "colab": {}
      },
      "source": [
        "model = torch.load('VGG16-model.pth')\n",
        "image_path = 'images/636.jpg' #Specify the image path\n",
        "img = imread(image_path)\n",
        "img = img/255\n",
        "img = resize(img, output_shape=(3, 224, 224),\n",
        "               mode='constant', anti_aliasing=True)\n",
        "img = np.array(img)\n",
        "\n",
        "img = img.reshape(1, 3, 224, 224) \n",
        "img = torch.from_numpy(img)\n",
        "img = img.float()\n",
        "\n",
        "output = model(img.cuda())\n",
        "softmax = torch.exp(output).cpu()\n",
        "prob = list(softmax.detach().numpy())\n",
        "predictions = np.argmax(prob, axis=1)\n",
        "print(predictions)"
      ],
      "execution_count": null,
      "outputs": []
    }
  ]
}